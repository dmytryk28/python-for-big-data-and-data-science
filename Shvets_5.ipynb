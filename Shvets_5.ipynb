{
  "nbformat": 4,
  "nbformat_minor": 0,
  "metadata": {
    "colab": {
      "provenance": []
    },
    "kernelspec": {
      "name": "python3",
      "display_name": "Python 3"
    },
    "language_info": {
      "name": "python"
    }
  },
  "cells": [
    {
      "cell_type": "markdown",
      "source": [
        "# I. OOP"
      ],
      "metadata": {
        "id": "5qV_sehzFCTp"
      }
    },
    {
      "cell_type": "markdown",
      "source": [
        "1. (6б). Створіть клас Animal, додайте три атрибути, один з яких має значення за замовчуванням та два методи на свій розсуд."
      ],
      "metadata": {
        "id": "tx_U_hOALyfg"
      }
    },
    {
      "cell_type": "code",
      "source": [
        "class Animal:\n",
        "    def __init__(self, name, can_fly, sound='Няв'):\n",
        "        self.name = name\n",
        "        self.can_fly = can_fly\n",
        "        self.sound = sound\n",
        "\n",
        "    def introduce(self):\n",
        "        can_fly_str = 'можу літати'\n",
        "        if not self.can_fly:\n",
        "            can_fly_str = 'не ' + can_fly_str\n",
        "        print(f'{self.sound}! Мене звати {self.name}. Я {can_fly_str}!')\n",
        "\n",
        "    def feed(self, food_amount):\n",
        "        if food_amount >= 10:\n",
        "            print(f'{self.name} каже {self.sound}, добре наївшись.')\n",
        "        else:\n",
        "            print(f'{self.name} просить іще.')"
      ],
      "metadata": {
        "id": "-Vf895KaL88N"
      },
      "execution_count": null,
      "outputs": []
    },
    {
      "cell_type": "markdown",
      "source": [
        "2. (2б). Створіть два обʼєкти цього класу, де один з обʼєктів створюється із дефолтним значенням атрибуту. На одному обʼєкті отримайте значення його атрибуту, а на іншому викличте один з його методів."
      ],
      "metadata": {
        "id": "X_UlOMB0L93w"
      }
    },
    {
      "cell_type": "code",
      "source": [
        "cat_murchyk = Animal('Мурчик', False)\n",
        "octopus_bob = Animal('Боб', True, 'Буль-бубуль')\n",
        "print('Звук Мурчика:', cat_murchyk.sound)\n",
        "octopus_bob.introduce()"
      ],
      "metadata": {
        "id": "7gBu0ESOMCpG",
        "colab": {
          "base_uri": "https://localhost:8080/"
        },
        "outputId": "b3f2db6f-2989-4e1f-86b8-302248c3c71e"
      },
      "execution_count": null,
      "outputs": [
        {
          "output_type": "stream",
          "name": "stdout",
          "text": [
            "Звук Мурчика: Няв\n",
            "Буль-бубуль! Мене звати Боб. Я можу літати!\n"
          ]
        }
      ]
    },
    {
      "cell_type": "markdown",
      "source": [
        "3. (5б). Створіть клас, де атрибути мають різні рівні доступу. Спробуйте отримати їхні значення та опишіть результати."
      ],
      "metadata": {
        "id": "HoqSCZt1MHn5"
      }
    },
    {
      "cell_type": "code",
      "source": [
        "class Safe:\n",
        "    def __init__(self, color, contents, password):\n",
        "        self.color = color\n",
        "        self._contents = contents\n",
        "        self.__password = password\n",
        "\n",
        "    def get_password(self):\n",
        "        return self.__password\n",
        "\n",
        "\n",
        "my_safe = Safe('срібний', 'шоколад', 'суперпуперпароль')\n",
        "\n",
        "# Отримати значення публічного атрибута можна без проблем\n",
        "print(\"Колір:\", my_safe.color)\n",
        "\n",
        "# Отримання значення protected атрибуту теж не викликає проблем,\n",
        "# оскільки Python напряму не закриває доступ до нього, проте\n",
        "# існує домовленість не доступатися до таких артибутів\n",
        "print(\"Вміст:\", my_safe._contents)\n",
        "\n",
        "# Спроба напряму отримати доступ до приватного атрибуту (__password) спричиняє помилку\n",
        "try:\n",
        "    print(\"Пароль:\", my_safe.__password)\n",
        "except AttributeError as e:\n",
        "    print(f\"Помилка: {e}\")\n",
        "\n",
        "# Проте отримати значення приватного атрибуту можна через метод\n",
        "print(\"Пароль:\", my_safe.get_password())"
      ],
      "metadata": {
        "id": "r9b3vJxBMSPV",
        "colab": {
          "base_uri": "https://localhost:8080/"
        },
        "outputId": "5cce8094-acd3-4c32-d71e-26ccf835dab4"
      },
      "execution_count": 23,
      "outputs": [
        {
          "output_type": "stream",
          "name": "stdout",
          "text": [
            "Колір: срібний\n",
            "Вміст: шоколад\n",
            "Помилка: 'Safe' object has no attribute '__password'\n",
            "Пароль: суперпуперпароль\n"
          ]
        }
      ]
    },
    {
      "cell_type": "markdown",
      "source": [
        "4. (7б). Як ви розумієте термін self? Для чого використовується метод __init __?"
      ],
      "metadata": {
        "id": "5op2m2vgMSkZ"
      }
    },
    {
      "cell_type": "markdown",
      "source": [
        "1. Термін \"self\" у Python вказує на поточний об'єкт, для якого викликається метод. self - це конвенційна назва для першого параметра визначеного методу об'єкта. self не є ключовим словом в Python, тому теоретично можна використати інше слово, однак прийнято вживати саме \"self\". Цей параметр вказує на те, який об'єкт викликає метод. Можна провести певну паралель із ключовим словом this у похідних від C мовах, який вказує на поточний об'єкт або ж його адресу.\n",
        "\n",
        "2. Метод \"__init__\" (з двома нижніми підкресленнями на початку та в кінці) є одним із методів класу у Python, який викликається автоматично при створенні нового об'єкта цього класу. Його використання полягає в ініціалізації атрибутів об'єкта, тобто встановленні початкових значень для атрибутів класу. У методі __init__ можна визначати обов'язкові та необов'язкові параметри, які визначаються при створенні об'єкта."
      ],
      "metadata": {
        "id": "DyiPqNRvMasx"
      }
    },
    {
      "cell_type": "markdown",
      "source": [
        "5. (9б). Створіть клас Фігура без атрибутів, з методом get_area для отримання площі фігури, що повертає 0 та __add __, який приймає self та other в якості аргументів, а повертає суму площин фігур self та other."
      ],
      "metadata": {
        "id": "-6X8EGfjMd2y"
      }
    },
    {
      "cell_type": "code",
      "source": [
        "class Figure:\n",
        "    def __add__(self, other):\n",
        "        if isinstance(other, Figure):\n",
        "            return self.get_area() + other.get_area()\n",
        "\n",
        "    def get_area(self):\n",
        "        return 0"
      ],
      "metadata": {
        "id": "4rvO_wYUMaEr"
      },
      "execution_count": null,
      "outputs": []
    },
    {
      "cell_type": "markdown",
      "source": [
        "6. (11б). Створіть 2 дочірніх класи від Фігури: Трикутник та Коло, які мають атрибути, необхідні для розрахунку площин. Визначте метод get_area в кожному з них так, щоби вони розраховували площу в залежності від формули для кожного типу фігури. Створіть обʼєкт класу Трикутник та обʼєкт класу Коло. Виконайте операцію суми за допомогою оператора + між ними."
      ],
      "metadata": {
        "id": "SFcKnnv5Mo_z"
      }
    },
    {
      "cell_type": "code",
      "source": [
        "import math\n",
        "\n",
        "class Triangle(Figure):\n",
        "    def __init__(self, base, height):\n",
        "        self.base = base\n",
        "        self.height = height\n",
        "\n",
        "    def get_area(self):\n",
        "        return 0.5 * self.base * self.height\n",
        "\n",
        "\n",
        "class Circle(Figure):\n",
        "    def __init__(self, radius):\n",
        "        self.radius = radius\n",
        "\n",
        "    def get_area(self):\n",
        "        return math.pi * self.radius ** 2\n",
        "\n",
        "\n",
        "triangle = Triangle(base=5, height=10)\n",
        "circle = Circle(radius=4)\n",
        "\n",
        "print(\"Площа трикутника:\", triangle.get_area())\n",
        "print(\"Площа кола:\", circle.get_area())\n",
        "\n",
        "total_area = triangle + circle\n",
        "print(\"Сума площин трикутника та кола:\", total_area)"
      ],
      "metadata": {
        "id": "H3GVNr69Muf3",
        "colab": {
          "base_uri": "https://localhost:8080/"
        },
        "outputId": "cb927628-6ad1-4393-9b24-694be733c557"
      },
      "execution_count": null,
      "outputs": [
        {
          "output_type": "stream",
          "name": "stdout",
          "text": [
            "Площа трикутника: 25.0\n",
            "Площа кола: 50.26548245743669\n",
            "Сума площин трикутника та кола: 75.26548245743669\n"
          ]
        }
      ]
    },
    {
      "cell_type": "markdown",
      "source": [
        "7. (3б). Продемонструйте різницю між isinstance та issubclass."
      ],
      "metadata": {
        "id": "HCvR206YMvLK"
      }
    },
    {
      "cell_type": "code",
      "source": [
        "class Parent:\n",
        "    pass\n",
        "\n",
        "\n",
        "class Child(Parent):\n",
        "    pass\n",
        "\n",
        "\n",
        "child_instance = Child()\n",
        "\n",
        "# чи child_instance є екземпляром класу Child\n",
        "print(\"isinstance(child_instance, Child):\", isinstance(child_instance, Child))\n",
        "\n",
        "# чи child_instance є екземпляром класу Parent\n",
        "print(\"isinstance(child_instance, Parent):\", isinstance(child_instance, Parent))\n",
        "\n",
        "# чи Child є підкласом Parent\n",
        "print(\"issubclass(Child, Parent):\", issubclass(Child, Parent))\n",
        "\n",
        "# чи Parent є підкласом Child\n",
        "print(\"issubclass(Parent, Child):\", issubclass(Parent, Child))"
      ],
      "metadata": {
        "id": "L_V1bBvDM0GN",
        "colab": {
          "base_uri": "https://localhost:8080/"
        },
        "outputId": "8537ec84-ce90-4635-809b-052010d1c9b1"
      },
      "execution_count": null,
      "outputs": [
        {
          "output_type": "stream",
          "name": "stdout",
          "text": [
            "isinstance(child_instance, Child): True\n",
            "isinstance(child_instance, Parent): True\n",
            "issubclass(Child, Parent): True\n",
            "issubclass(Parent, Child): False\n"
          ]
        }
      ]
    },
    {
      "cell_type": "markdown",
      "source": [
        "8. (13б). Створіть клас BankAccount з приватними атрибутами balance та account_number. Реалізуйте методи поповнення та зняття коштів, забезпечивши належну інкапсуляцію. Підказка: використовуйте декоратори property та setter."
      ],
      "metadata": {
        "id": "jjsaBZ-iM0Qq"
      }
    },
    {
      "cell_type": "code",
      "source": [
        "class BankAccount:\n",
        "    def __init__(self, account_number, initial_balance=0):\n",
        "        self.__account_number = account_number\n",
        "        self.__balance = initial_balance\n",
        "\n",
        "    @property\n",
        "    def balance(self):\n",
        "        return self.__balance\n",
        "\n",
        "    @balance.setter\n",
        "    def balance(self, new_balance):\n",
        "        if new_balance >= 0:\n",
        "            self.__balance = new_balance\n",
        "        else:\n",
        "            print(\"Неприпустиме значення для балансу.\")\n",
        "\n",
        "    @property\n",
        "    def account_number(self):\n",
        "        return self.__account_number\n",
        "\n",
        "    def deposit(self, amount):\n",
        "        if amount > 0:\n",
        "            self.__balance += amount\n",
        "            print(f\"Поповнено на {amount} грн. Новий баланс: {self.__balance} грн.\")\n",
        "        else:\n",
        "            print(\"Неприпустима сума для поповнення.\")\n",
        "\n",
        "    def withdraw(self, amount):\n",
        "        if 0 < amount <= self.__balance:\n",
        "            self.__balance -= amount\n",
        "            print(f\"Знято {amount} грн. Новий баланс: {self.__balance} грн.\")\n",
        "        else:\n",
        "            print(\"Неприпустима сума для зняття або недостатньо коштів на рахунку.\")\n",
        "\n",
        "\n",
        "account = BankAccount(\"123456789\", 1000)\n",
        "\n",
        "print(\"Номер рахунку:\", account.account_number)\n",
        "account.balance = 1500\n",
        "print(\"Початковий баланс:\", account.balance)\n",
        "\n",
        "account.deposit(500)\n",
        "account.withdraw(200)\n",
        "\n",
        "print(\"Кінцевий баланс:\", account.balance)"
      ],
      "metadata": {
        "id": "xCvZ7lh8M7YA",
        "colab": {
          "base_uri": "https://localhost:8080/"
        },
        "outputId": "fd199b94-229c-4cb8-bb5c-f11e1a792486"
      },
      "execution_count": 5,
      "outputs": [
        {
          "output_type": "stream",
          "name": "stdout",
          "text": [
            "Номер рахунку: 123456789\n",
            "Початковий баланс: 1500\n",
            "Поповнено на 500 грн. Новий баланс: 2000 грн.\n",
            "Знято 200 грн. Новий баланс: 1800 грн.\n",
            "Кінцевий баланс: 1800\n"
          ]
        }
      ]
    },
    {
      "cell_type": "markdown",
      "source": [
        "9. (11б). Створіть клас Library, який містить список об'єктів типу Book. Реалізуйте методи для додавання книги, видалення книги та відображення списку книг."
      ],
      "metadata": {
        "id": "tIzL2SJTM8ft"
      }
    },
    {
      "cell_type": "code",
      "source": [
        "class Book:\n",
        "    def __init__(self, title, author):\n",
        "        self.title = title\n",
        "        self.author = author\n",
        "\n",
        "class Library:\n",
        "    def __init__(self):\n",
        "        self.books = []\n",
        "\n",
        "    def add_book(self, book):\n",
        "        if isinstance(book, Book):\n",
        "            self.books.append(book)\n",
        "            print(f\"Книга '{book.title}' додана до бібліотеки.\")\n",
        "        else:\n",
        "            print(\"Невірний тип об'єкту. Додавання неможливе.\")\n",
        "\n",
        "    def remove_book(self, title):\n",
        "        for book in self.books:\n",
        "            if book.title == title:\n",
        "                self.books.remove(book)\n",
        "                print(f\"Книга '{title}' видалена з бібліотеки.\")\n",
        "                break\n",
        "        else:\n",
        "            print(f\"Книга '{title}' не знайдена в бібліотеці.\")\n",
        "\n",
        "    def display_books(self):\n",
        "        if not self.books:\n",
        "            print(\"Бібліотека порожня.\")\n",
        "        else:\n",
        "            print(\"Список книг в бібліотеці:\")\n",
        "            for book in self.books:\n",
        "                print(f\"- '{book.title}' by {book.author}\")\n",
        "\n",
        "\n",
        "library = Library()\n",
        "\n",
        "book1 = Book(\"The Great Gatsby\", \"F. Scott Fitzgerald\")\n",
        "book2 = Book(\"Кобзар\", \"Тарас Шевченко\")\n",
        "book3 = Book(\"Амадока\", \"Софія Андрухович\")\n",
        "\n",
        "library.add_book(book1)\n",
        "library.add_book(book2)\n",
        "library.add_book(book3)\n",
        "\n",
        "\n",
        "library.display_books()\n",
        "library.remove_book(\"The Great Gatsby\")\n",
        "library.display_books()"
      ],
      "metadata": {
        "id": "HWxfJKLtNAUZ",
        "colab": {
          "base_uri": "https://localhost:8080/"
        },
        "outputId": "461eec77-7a55-4097-809c-0aabada6a01c"
      },
      "execution_count": 6,
      "outputs": [
        {
          "output_type": "stream",
          "name": "stdout",
          "text": [
            "Книга 'The Great Gatsby' додана до бібліотеки.\n",
            "Книга 'Кобзар' додана до бібліотеки.\n",
            "Книга 'Амадока' додана до бібліотеки.\n",
            "Список книг в бібліотеці:\n",
            "- 'The Great Gatsby' by F. Scott Fitzgerald\n",
            "- 'Кобзар' by Тарас Шевченко\n",
            "- 'Амадока' by Софія Андрухович\n",
            "Книга 'The Great Gatsby' видалена з бібліотеки.\n",
            "Список книг в бібліотеці:\n",
            "- 'Кобзар' by Тарас Шевченко\n",
            "- 'Амадока' by Софія Андрухович\n"
          ]
        }
      ]
    },
    {
      "cell_type": "markdown",
      "source": [
        "10. (13б). Створіть клас Person з атрибутами name та age. Створіть ще один клас Employee з такими атрибутами, як department та salary. Створіть клас Manager, який успадковує обидва класи Person та Employee. Продемонструйте використання множинної спадковості, створивши обʼєкт класу Manager та отримавши mro для цього класу."
      ],
      "metadata": {
        "id": "lmV8pAwwNIqu"
      }
    },
    {
      "cell_type": "code",
      "source": [
        "class Person:\n",
        "    def __init__(self, name, age):\n",
        "        self.name = name\n",
        "        self.age = age\n",
        "\n",
        "class Employee:\n",
        "    def __init__(self, department, salary):\n",
        "        self.department = department\n",
        "        self.salary = salary\n",
        "\n",
        "class Manager(Person, Employee):\n",
        "    def __init__(self, name, age, department, salary):\n",
        "        Person.__init__(self, name, age)\n",
        "        Employee.__init__(self, department, salary)\n",
        "\n",
        "    def __str__(self):\n",
        "        return f\"Name: {self.name}, Age: {self.age}, Department: {self.department}, Salary: {self.salary}\"\n",
        "\n",
        "manager1 = Manager(\"Андрій Іваненко\", 20, \"Продажі\", 100000)\n",
        "print(manager1)\n",
        "print(Manager.mro())"
      ],
      "metadata": {
        "id": "R49grKlWNPeN",
        "colab": {
          "base_uri": "https://localhost:8080/"
        },
        "outputId": "66fc0a07-fb3b-4c64-f358-dd0b3f26e2cc"
      },
      "execution_count": 24,
      "outputs": [
        {
          "output_type": "stream",
          "name": "stdout",
          "text": [
            "Name: Андрій Іваненко, Age: 20, Department: Продажі, Salary: 100000\n",
            "[<class '__main__.Manager'>, <class '__main__.Person'>, <class '__main__.Employee'>, <class 'object'>]\n"
          ]
        }
      ]
    },
    {
      "cell_type": "markdown",
      "source": [
        "# II. Iterator"
      ],
      "metadata": {
        "id": "dIJyUiNBFG8G"
      }
    },
    {
      "cell_type": "markdown",
      "source": [
        "11. (4б). Визначте рядок(str) з 4ма різними за значенням символами. Створіть ітератор на основі цього рядка. Викличте 5 разів функцію next на ітераторі, 4ри перших з них огорніть у ф-цію print()."
      ],
      "metadata": {
        "id": "13vsm0NyKIzL"
      }
    },
    {
      "cell_type": "code",
      "source": [
        "str1 = \"cake\"\n",
        "iter1 = iter(str1)\n",
        "\n",
        "for i in range(5):\n",
        "    if i < 4:\n",
        "        print(next(iter1))\n",
        "    else:\n",
        "        next(iter1)\n",
        "\n",
        "#Помилка через виклик ітератора 5 разів на 4-символьному рядку"
      ],
      "metadata": {
        "id": "81ntabAkKuz-",
        "colab": {
          "base_uri": "https://localhost:8080/",
          "height": 280
        },
        "outputId": "fdfc7a34-4678-4dcf-dd77-587aa90671b7"
      },
      "execution_count": 15,
      "outputs": [
        {
          "output_type": "stream",
          "name": "stdout",
          "text": [
            "c\n",
            "a\n",
            "k\n",
            "e\n"
          ]
        },
        {
          "output_type": "error",
          "ename": "StopIteration",
          "evalue": "",
          "traceback": [
            "\u001b[0;31m---------------------------------------------------------------------------\u001b[0m",
            "\u001b[0;31mStopIteration\u001b[0m                             Traceback (most recent call last)",
            "\u001b[0;32m<ipython-input-15-ecb8b9684a49>\u001b[0m in \u001b[0;36m<cell line: 4>\u001b[0;34m()\u001b[0m\n\u001b[1;32m      6\u001b[0m         \u001b[0mprint\u001b[0m\u001b[0;34m(\u001b[0m\u001b[0mnext\u001b[0m\u001b[0;34m(\u001b[0m\u001b[0miter1\u001b[0m\u001b[0;34m)\u001b[0m\u001b[0;34m)\u001b[0m\u001b[0;34m\u001b[0m\u001b[0;34m\u001b[0m\u001b[0m\n\u001b[1;32m      7\u001b[0m     \u001b[0;32melse\u001b[0m\u001b[0;34m:\u001b[0m\u001b[0;34m\u001b[0m\u001b[0;34m\u001b[0m\u001b[0m\n\u001b[0;32m----> 8\u001b[0;31m         \u001b[0mnext\u001b[0m\u001b[0;34m(\u001b[0m\u001b[0miter1\u001b[0m\u001b[0;34m)\u001b[0m\u001b[0;34m\u001b[0m\u001b[0;34m\u001b[0m\u001b[0m\n\u001b[0m\u001b[1;32m      9\u001b[0m \u001b[0;34m\u001b[0m\u001b[0m\n\u001b[1;32m     10\u001b[0m \u001b[0;31m#Помилка через виклик ітератора 5 разів на 4-символьному рядку\u001b[0m\u001b[0;34m\u001b[0m\u001b[0;34m\u001b[0m\u001b[0m\n",
            "\u001b[0;31mStopIteration\u001b[0m: "
          ]
        }
      ]
    },
    {
      "cell_type": "markdown",
      "source": [
        "А що якщо викликати цю ж функцію на рядку?"
      ],
      "metadata": {
        "id": "aekWHGXOLRsO"
      }
    },
    {
      "cell_type": "code",
      "source": [
        "str2 = \"cake\"\n",
        "print(next(str2))\n",
        "\n",
        "#Помилка, оскільки функція next вимагає ітерабельного об'єкту, а рядок не є таким"
      ],
      "metadata": {
        "id": "mxATGsErLV1i",
        "colab": {
          "base_uri": "https://localhost:8080/",
          "height": 193
        },
        "outputId": "2d4ee40c-49e7-4cf9-f6d6-586961c2bf04"
      },
      "execution_count": 17,
      "outputs": [
        {
          "output_type": "error",
          "ename": "TypeError",
          "evalue": "'str' object is not an iterator",
          "traceback": [
            "\u001b[0;31m---------------------------------------------------------------------------\u001b[0m",
            "\u001b[0;31mTypeError\u001b[0m                                 Traceback (most recent call last)",
            "\u001b[0;32m<ipython-input-17-41f51dd66285>\u001b[0m in \u001b[0;36m<cell line: 2>\u001b[0;34m()\u001b[0m\n\u001b[1;32m      1\u001b[0m \u001b[0mstr2\u001b[0m \u001b[0;34m=\u001b[0m \u001b[0;34m\"cake\"\u001b[0m\u001b[0;34m\u001b[0m\u001b[0;34m\u001b[0m\u001b[0m\n\u001b[0;32m----> 2\u001b[0;31m \u001b[0mprint\u001b[0m\u001b[0;34m(\u001b[0m\u001b[0mnext\u001b[0m\u001b[0;34m(\u001b[0m\u001b[0mstr2\u001b[0m\u001b[0;34m)\u001b[0m\u001b[0;34m)\u001b[0m\u001b[0;34m\u001b[0m\u001b[0;34m\u001b[0m\u001b[0m\n\u001b[0m\u001b[1;32m      3\u001b[0m \u001b[0;34m\u001b[0m\u001b[0m\n\u001b[1;32m      4\u001b[0m \u001b[0;31m#Помилка, оскільки функція next вимагає ітерабельного об'єкту, а рядок не є таким\u001b[0m\u001b[0;34m\u001b[0m\u001b[0;34m\u001b[0m\u001b[0m\n",
            "\u001b[0;31mTypeError\u001b[0m: 'str' object is not an iterator"
          ]
        }
      ]
    },
    {
      "cell_type": "markdown",
      "source": [
        " 12. (5б). Опишіть своїми словами в одному реченні, як ви розумієте різницю між ітерабельними обʼєктами та ітераторами (можна на прикладі)."
      ],
      "metadata": {
        "id": "XwtMEopwJ4pH"
      }
    },
    {
      "cell_type": "markdown",
      "source": [
        "Ітерабельний об’єкт - це об’єкт, який містить набір елементів, які можна перебирати, а ітератор - це об’єкт, який вказує на конкретний елемент у послідовності та дозволяє послідовно отримувати наступні елементи цієї послідовності."
      ],
      "metadata": {
        "id": "-sHrODc3KFn8"
      }
    },
    {
      "cell_type": "markdown",
      "source": [
        "13. (11б). Створіть клас, що має визначений Iterator Protocol та при кожному виклику next повертає літери англійської абетки, поки вони не вичерпаються."
      ],
      "metadata": {
        "id": "E9qJWmNbK8Gl"
      }
    },
    {
      "cell_type": "code",
      "source": [
        "class Letters:\n",
        "    def __iter__(self):\n",
        "        self.curr = ord('A')\n",
        "        return self\n",
        "\n",
        "    def __next__(self):\n",
        "        if self.curr <= ord('Z'):\n",
        "            next_l = chr(self.curr)\n",
        "            self.curr += 1\n",
        "            return next_l\n",
        "        else:\n",
        "            raise StopIteration\n",
        "\n",
        "iter1 = Letters()\n",
        "\n",
        "for lett in iter1:\n",
        "    print(lett)"
      ],
      "metadata": {
        "id": "cqx-g_RsLo6I",
        "colab": {
          "base_uri": "https://localhost:8080/"
        },
        "outputId": "2701feda-29ca-4694-af1d-2d18f5eab7c3"
      },
      "execution_count": 21,
      "outputs": [
        {
          "output_type": "stream",
          "name": "stdout",
          "text": [
            "A\n",
            "B\n",
            "C\n",
            "D\n",
            "E\n",
            "F\n",
            "G\n",
            "H\n",
            "I\n",
            "J\n",
            "K\n",
            "L\n",
            "M\n",
            "N\n",
            "O\n",
            "P\n",
            "Q\n",
            "R\n",
            "S\n",
            "T\n",
            "U\n",
            "V\n",
            "W\n",
            "X\n",
            "Y\n",
            "Z\n"
          ]
        }
      ]
    },
    {
      "cell_type": "markdown",
      "source": [
        "# Вітаю! Ви велика(ий) молодець, що впоралась(вся). Похваліть себе та побалуйте чимось приємним. Я Вами пишаюся."
      ],
      "metadata": {
        "id": "Z3E3S_s1Fv7-"
      }
    }
  ]
}